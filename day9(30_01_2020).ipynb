{
  "nbformat": 4,
  "nbformat_minor": 0,
  "metadata": {
    "colab": {
      "name": "day9(30-01-2020).ipynb",
      "provenance": [],
      "authorship_tag": "ABX9TyNeE2AAkp8HH/eTsEtHnrOB",
      "include_colab_link": true
    },
    "kernelspec": {
      "name": "python3",
      "display_name": "Python 3"
    }
  },
  "cells": [
    {
      "cell_type": "markdown",
      "metadata": {
        "id": "view-in-github",
        "colab_type": "text"
      },
      "source": [
        "<a href=\"https://colab.research.google.com/github/mkpriyaa/python/blob/master/day9(30_01_2020).ipynb\" target=\"_parent\"><img src=\"https://colab.research.google.com/assets/colab-badge.svg\" alt=\"Open In Colab\"/></a>"
      ]
    },
    {
      "cell_type": "code",
      "metadata": {
        "id": "1I0k17V7956B",
        "colab_type": "code",
        "colab": {}
      },
      "source": [
        ""
      ],
      "execution_count": 0,
      "outputs": []
    },
    {
      "cell_type": "markdown",
      "metadata": {
        "id": "pTQKKESVAVbT",
        "colab_type": "text"
      },
      "source": [
        "#mark\n",
        "##mark\n",
        "###mark\n",
        "*points*\n",
        "**points**\n",
        "***points***\n",
        " [site](https://mrdoob.com/projects/chromeexperiments/google-gravity/)\n",
        "![image](https://cdn.vox-cdn.com/thumbor/NtgHwgBedas3nxzUofhFhNxQfgQ=/0x0:2040x1360/920x613/filters:focal(857x517:1183x843):format(webp)/cdn.vox-cdn.com/uploads/chorus_image/image/65093706/mdoying_180118_2249_0338stills.0.jpg)\n"
      ]
    },
    {
      "cell_type": "code",
      "metadata": {
        "id": "sOdOCnLREyg4",
        "colab_type": "code",
        "colab": {
          "base_uri": "https://localhost:8080/",
          "height": 34
        },
        "outputId": "dad26506-a4bc-44a5-a63a-39c3082e3134"
      },
      "source": [
        "print(\"hello!\")"
      ],
      "execution_count": 1,
      "outputs": [
        {
          "output_type": "stream",
          "text": [
            "hello!\n"
          ],
          "name": "stdout"
        }
      ]
    },
    {
      "cell_type": "code",
      "metadata": {
        "id": "yM8oCVULE3Tn",
        "colab_type": "code",
        "colab": {
          "base_uri": "https://localhost:8080/",
          "height": 34
        },
        "outputId": "3da68aa8-53ee-4140-c5f9-e547cac2e06a"
      },
      "source": [
        "#variable\n",
        "n=\"hi\"\n",
        "a=b=c=10\n",
        "a1,b1=40,30\n",
        "print(n,a,b,c,a1,b1)"
      ],
      "execution_count": 40,
      "outputs": [
        {
          "output_type": "stream",
          "text": [
            "hi 10 10 10 40 30\n"
          ],
          "name": "stdout"
        }
      ]
    },
    {
      "cell_type": "code",
      "metadata": {
        "id": "SqkEYDgOMYyU",
        "colab_type": "code",
        "colab": {
          "base_uri": "https://localhost:8080/",
          "height": 70
        },
        "outputId": "9308f84b-cca3-47a6-d072-5a988aa672e5"
      },
      "source": [
        "#data conversions\n",
        "print(type(a),type(n))\n",
        "s1=str(a)\n",
        "print(s1,type(s1))\n",
        "print(len(s1))"
      ],
      "execution_count": 9,
      "outputs": [
        {
          "output_type": "stream",
          "text": [
            "<class 'int'> <class 'str'>\n",
            "10 <class 'str'>\n",
            "2\n"
          ],
          "name": "stdout"
        }
      ]
    },
    {
      "cell_type": "code",
      "metadata": {
        "id": "0kAFp3ZfNVKD",
        "colab_type": "code",
        "colab": {
          "base_uri": "https://localhost:8080/",
          "height": 52
        },
        "outputId": "f271795a-781d-4d32-fd9f-8ad32032d812"
      },
      "source": [
        "#reading input\n",
        "d=int(input(\"value\"))\n",
        "print(d)"
      ],
      "execution_count": 24,
      "outputs": [
        {
          "output_type": "stream",
          "text": [
            "value2\n",
            "2\n"
          ],
          "name": "stdout"
        }
      ]
    },
    {
      "cell_type": "code",
      "metadata": {
        "id": "6vHlIdiRRHib",
        "colab_type": "code",
        "colab": {
          "base_uri": "https://localhost:8080/",
          "height": 105
        },
        "outputId": "e26e2223-c8e9-4e58-d284-c04498ea1575"
      },
      "source": [
        "#operators\n",
        "print(a+b)\n",
        "print(a-a1)\n",
        "print(a*b)\n",
        "print(a/b)\n",
        "print(a//b1)"
      ],
      "execution_count": 13,
      "outputs": [
        {
          "output_type": "stream",
          "text": [
            "20\n",
            "-10\n",
            "100\n",
            "1.0\n",
            "0\n"
          ],
          "name": "stdout"
        }
      ]
    },
    {
      "cell_type": "code",
      "metadata": {
        "id": "fZ4HUgh1Pi0V",
        "colab_type": "code",
        "colab": {
          "base_uri": "https://localhost:8080/",
          "height": 70
        },
        "outputId": "91b49e41-9529-4974-9c88-fd8e82da8628"
      },
      "source": [
        "#relational operators\n",
        "print(a>15)\n",
        "print(a!=15)\n",
        "print(a<9)"
      ],
      "execution_count": 22,
      "outputs": [
        {
          "output_type": "stream",
          "text": [
            "False\n",
            "True\n",
            "False\n"
          ],
          "name": "stdout"
        }
      ]
    },
    {
      "cell_type": "code",
      "metadata": {
        "id": "yI8t6jmtUh26",
        "colab_type": "code",
        "colab": {
          "base_uri": "https://localhost:8080/",
          "height": 70
        },
        "outputId": "f0040cc6-4702-4c3e-b594-ecf9bdd59f9d"
      },
      "source": [
        "#logical operators\n",
        "print(a>15) and (a<9)\n",
        "print(a<15) or (a>9)"
      ],
      "execution_count": 21,
      "outputs": [
        {
          "output_type": "stream",
          "text": [
            "False\n",
            "True\n"
          ],
          "name": "stdout"
        },
        {
          "output_type": "execute_result",
          "data": {
            "text/plain": [
              "True"
            ]
          },
          "metadata": {
            "tags": []
          },
          "execution_count": 21
        }
      ]
    },
    {
      "cell_type": "code",
      "metadata": {
        "id": "0RDIDqTJVm5t",
        "colab_type": "code",
        "colab": {
          "base_uri": "https://localhost:8080/",
          "height": 52
        },
        "outputId": "fc984fac-2dcb-4851-a220-1dee1cd1bff3"
      },
      "source": [
        "#control flow\n",
        "if 2%2==0:\n",
        "  print(\"even\")\n",
        "else:  \n",
        "  print(\"odd\")  "
      ],
      "execution_count": 26,
      "outputs": [
        {
          "output_type": "stream",
          "text": [
            "even\n",
            "odd\n"
          ],
          "name": "stdout"
        }
      ]
    },
    {
      "cell_type": "code",
      "metadata": {
        "id": "mGJOgZbBZcK-",
        "colab_type": "code",
        "colab": {
          "base_uri": "https://localhost:8080/",
          "height": 52
        },
        "outputId": "ccc4744f-479d-4e09-bf6c-8dfbfa5e2e87"
      },
      "source": [
        "e=int(input(\"value\"))\n",
        "if e%3==0 and e%5==0:\n",
        "  print(\"multiple\")\n",
        "else:  \n",
        "  print(\"not\") \n",
        "\n"
      ],
      "execution_count": 33,
      "outputs": [
        {
          "output_type": "stream",
          "text": [
            "value15\n",
            "multiple\n"
          ],
          "name": "stdout"
        }
      ]
    },
    {
      "cell_type": "code",
      "metadata": {
        "id": "SYKDJAROcByJ",
        "colab_type": "code",
        "colab": {
          "base_uri": "https://localhost:8080/",
          "height": 52
        },
        "outputId": "e3ede0e3-6651-40dd-b6fd-6ce64ca2f6fb"
      },
      "source": [
        "f=int(input(\"value\"))\n",
        "if f>0:\n",
        "  print(\"+\")\n",
        "elif f<0:\n",
        "  print(\"-\")\n",
        "else:\n",
        "  print(\"0\")   "
      ],
      "execution_count": 39,
      "outputs": [
        {
          "output_type": "stream",
          "text": [
            "value-1\n",
            "-\n"
          ],
          "name": "stdout"
        }
      ]
    },
    {
      "cell_type": "code",
      "metadata": {
        "id": "eL0_3jckcClz",
        "colab_type": "code",
        "colab": {
          "base_uri": "https://localhost:8080/",
          "height": 34
        },
        "outputId": "1ee1ef97-03f9-4bfd-cc40-07c2e897d413"
      },
      "source": [
        "if a>a1 and b1:\n",
        "  print(\"a\")\n",
        "elif a1>a and b1:\n",
        "  print(\"a1\")\n",
        "else:\n",
        "  print(\"b1\")   "
      ],
      "execution_count": 41,
      "outputs": [
        {
          "output_type": "stream",
          "text": [
            "a1\n"
          ],
          "name": "stdout"
        }
      ]
    },
    {
      "cell_type": "code",
      "metadata": {
        "id": "9y67FmhCcnkW",
        "colab_type": "code",
        "colab": {
          "base_uri": "https://localhost:8080/",
          "height": 52
        },
        "outputId": "115e4159-989c-4a24-bac5-7d269e3d0674"
      },
      "source": [
        "y=int(input(\"year\"))\n",
        "if (y%4==0 or y%100==0) and y%400==0:\n",
        "  print(\"leap\")\n",
        "else:\n",
        "  print(\"not\") "
      ],
      "execution_count": 43,
      "outputs": [
        {
          "output_type": "stream",
          "text": [
            "year2020\n",
            "not\n"
          ],
          "name": "stdout"
        }
      ]
    },
    {
      "cell_type": "code",
      "metadata": {
        "id": "NEotdJZ0gri_",
        "colab_type": "code",
        "colab": {}
      },
      "source": [
        ""
      ],
      "execution_count": 0,
      "outputs": []
    }
  ]
}